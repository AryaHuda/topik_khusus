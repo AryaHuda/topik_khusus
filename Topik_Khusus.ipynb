{
 "cells": [
  {
   "cell_type": "code",
   "execution_count": 1,
   "id": "c4000d82",
   "metadata": {},
   "outputs": [
    {
     "ename": "ModuleNotFoundError",
     "evalue": "No module named 'serial'",
     "output_type": "error",
     "traceback": [
      "\u001b[1;31m---------------------------------------------------------------------------\u001b[0m",
      "\u001b[1;31mModuleNotFoundError\u001b[0m                       Traceback (most recent call last)",
      "\u001b[1;32m<ipython-input-1-a80249eb69ec>\u001b[0m in \u001b[0;36m<module>\u001b[1;34m\u001b[0m\n\u001b[1;32m----> 1\u001b[1;33m \u001b[1;32mimport\u001b[0m \u001b[0mserial\u001b[0m\u001b[1;33m\u001b[0m\u001b[1;33m\u001b[0m\u001b[0m\n\u001b[0m\u001b[0;32m      2\u001b[0m \u001b[1;32mimport\u001b[0m \u001b[0mtime\u001b[0m\u001b[1;33m\u001b[0m\u001b[1;33m\u001b[0m\u001b[0m\n\u001b[0;32m      3\u001b[0m \u001b[1;32mimport\u001b[0m \u001b[0mcsv\u001b[0m\u001b[1;33m\u001b[0m\u001b[1;33m\u001b[0m\u001b[0m\n\u001b[0;32m      4\u001b[0m \u001b[1;32mimport\u001b[0m \u001b[0mmatplotlib\u001b[0m\u001b[1;33m\u001b[0m\u001b[1;33m\u001b[0m\u001b[0m\n\u001b[0;32m      5\u001b[0m \u001b[0mmatplotlib\u001b[0m\u001b[1;33m.\u001b[0m\u001b[0muse\u001b[0m\u001b[1;33m(\u001b[0m\u001b[1;34m\"tkAgg\"\u001b[0m\u001b[1;33m)\u001b[0m\u001b[1;33m\u001b[0m\u001b[1;33m\u001b[0m\u001b[0m\n",
      "\u001b[1;31mModuleNotFoundError\u001b[0m: No module named 'serial'"
     ]
    }
   ],
   "source": [
    "import serial\n",
    "import time\n",
    "import csv\n",
    "import matplotlib\n",
    "matplotlib.use(\"tkAgg\")\n",
    "import matplotlib.pyplot as plt\n",
    "import numpy as np\n",
    "\n",
    "matplotlib.use(\"tkAgg\")\n",
    "\n",
    "\n",
    "if __name__ == '__main__':\n",
    "\n",
    "    ser = serial.Serial('COM5')\n",
    "    ser.flushInput()\n",
    "    plot_window = 20\n",
    "    y_var = np.array(np.zeros([plot_window]))\n",
    "\n",
    "    plt.ion()\n",
    "    fig, ax = plt.subplots()\n",
    "    line, = ax.plot(y_var)\n",
    "\n",
    "    while True:\n",
    "        try:\n",
    "            ser_bytes = ser.readline()\n",
    "            try:\n",
    "                decoded_bytes = float(ser_bytes[0:len(ser_bytes) - 2].decode(\"utf-8\"))\n",
    "                print(decoded_bytes)\n",
    "            except:\n",
    "                continue\n",
    "            with open(\"test_data.csv\", \"a\") as f:\n",
    "                writer = csv.writer(f, delimiter=\",\")\n",
    "                writer.writerow([time.time(), decoded_bytes])\n",
    "            y_var = np.append(y_var, decoded_bytes)\n",
    "            y_var = y_var[1:plot_window + 1]\n",
    "            line.set_ydata(y_var)\n",
    "            ax.relim()\n",
    "            ax.autoscale_view()\n",
    "            fig.canvas.draw()\n",
    "            fig.canvas.flush_events()\n",
    "        except:\n",
    "            print(\"Keyboard Interrupt\")\n",
    "            break"
   ]
  },
  {
   "cell_type": "code",
   "execution_count": null,
   "id": "d21c5c9c",
   "metadata": {},
   "outputs": [],
   "source": []
  }
 ],
 "metadata": {
  "kernelspec": {
   "display_name": "Python 3",
   "language": "python",
   "name": "python3"
  },
  "language_info": {
   "codemirror_mode": {
    "name": "ipython",
    "version": 3
   },
   "file_extension": ".py",
   "mimetype": "text/x-python",
   "name": "python",
   "nbconvert_exporter": "python",
   "pygments_lexer": "ipython3",
   "version": "3.8.8"
  }
 },
 "nbformat": 4,
 "nbformat_minor": 5
}
